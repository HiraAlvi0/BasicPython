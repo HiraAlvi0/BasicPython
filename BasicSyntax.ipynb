{
 "cells": [
  {
   "cell_type": "markdown",
   "id": "2208400a",
   "metadata": {},
   "source": [
    "# Basic"
   ]
  },
  {
   "cell_type": "code",
   "execution_count": 1,
   "id": "3cb8beaa",
   "metadata": {},
   "outputs": [
    {
     "name": "stdout",
     "output_type": "stream",
     "text": [
      "Hello World\n"
     ]
    }
   ],
   "source": [
    "print (\"Hello World\")"
   ]
  },
  {
   "cell_type": "code",
   "execution_count": 2,
   "id": "1e2738ee",
   "metadata": {
    "scrolled": true
   },
   "outputs": [
    {
     "name": "stdout",
     "output_type": "stream",
     "text": [
      "Programming in Python is fun!\n"
     ]
    }
   ],
   "source": [
    "print(\"Programming in Python is fun!\")"
   ]
  },
  {
   "cell_type": "markdown",
   "id": "5058581d",
   "metadata": {},
   "source": [
    "## Calculation"
   ]
  },
  {
   "cell_type": "code",
   "execution_count": 3,
   "id": "4939e5ba",
   "metadata": {},
   "outputs": [
    {
     "name": "stdout",
     "output_type": "stream",
     "text": [
      "9\n"
     ]
    }
   ],
   "source": [
    "print (4 + 5)"
   ]
  },
  {
   "cell_type": "code",
   "execution_count": 5,
   "id": "3b57f463",
   "metadata": {},
   "outputs": [
    {
     "name": "stdout",
     "output_type": "stream",
     "text": [
      "3\n"
     ]
    }
   ],
   "source": [
    "print (5 - 2)"
   ]
  },
  {
   "cell_type": "code",
   "execution_count": 6,
   "id": "e48a0dee",
   "metadata": {},
   "outputs": [
    {
     "name": "stdout",
     "output_type": "stream",
     "text": [
      "56\n"
     ]
    }
   ],
   "source": [
    "print (8 * 7)"
   ]
  },
  {
   "cell_type": "code",
   "execution_count": 7,
   "id": "2d7bfd06",
   "metadata": {},
   "outputs": [
    {
     "name": "stdout",
     "output_type": "stream",
     "text": [
      "0.2\n"
     ]
    }
   ],
   "source": [
    "print (20 / 100)"
   ]
  },
  {
   "cell_type": "code",
   "execution_count": 8,
   "id": "9f559e5a",
   "metadata": {},
   "outputs": [
    {
     "name": "stdout",
     "output_type": "stream",
     "text": [
      "1024\n"
     ]
    }
   ],
   "source": [
    "print (2 ** 10)"
   ]
  },
  {
   "cell_type": "markdown",
   "id": "71193a1a",
   "metadata": {},
   "source": [
    "#### Calculate the Golden ratio:1+√5/2"
   ]
  },
  {
   "cell_type": "code",
   "execution_count": 1,
   "id": "e1253034",
   "metadata": {},
   "outputs": [
    {
     "name": "stdout",
     "output_type": "stream",
     "text": [
      "1.618033988749895\n"
     ]
    }
   ],
   "source": [
    "ratio =((1+5**(1/2))/2)\n",
    "print(ratio)"
   ]
  },
  {
   "cell_type": "markdown",
   "id": "1abd3b19",
   "metadata": {},
   "source": [
    "#### Use Python to calculate (((1+2)∗3)/4)^5"
   ]
  },
  {
   "cell_type": "code",
   "execution_count": 2,
   "id": "967132de",
   "metadata": {},
   "outputs": [
    {
     "name": "stdout",
     "output_type": "stream",
     "text": [
      "57.6650390625\n"
     ]
    }
   ],
   "source": [
    "print((((1+2)*3)/4)**5)"
   ]
  },
  {
   "cell_type": "markdown",
   "id": "74fe3f25",
   "metadata": {},
   "source": [
    "#### Most hard drives are divided into sectors of 512 bytes each.Our disk has a size of 16 GB.Fill in the blank to calculate how many sectors the disk has. Note: Your result should be in the format of just a number, not a sentence."
   ]
  },
  {
   "cell_type": "code",
   "execution_count": 1,
   "id": "2eda55f7",
   "metadata": {},
   "outputs": [
    {
     "name": "stdout",
     "output_type": "stream",
     "text": [
      "33554432.0\n"
     ]
    }
   ],
   "source": [
    "disk_size = 16*1024*1024*1024\n",
    "sector_size = 512\n",
    "sector_amount = disk_size/sector_size\n",
    "\n",
    "print(sector_amount)"
   ]
  },
  {
   "cell_type": "markdown",
   "id": "41380a94",
   "metadata": {},
   "source": [
    "## Data Type"
   ]
  },
  {
   "cell_type": "code",
   "execution_count": 3,
   "id": "7a169cee",
   "metadata": {},
   "outputs": [
    {
     "name": "stdout",
     "output_type": "stream",
     "text": [
      "<class 'int'>\n"
     ]
    }
   ],
   "source": [
    "a=4\n",
    "print(type(a))"
   ]
  },
  {
   "cell_type": "code",
   "execution_count": 4,
   "id": "d2864fe9",
   "metadata": {},
   "outputs": [
    {
     "name": "stdout",
     "output_type": "stream",
     "text": [
      "<class 'str'>\n"
     ]
    }
   ],
   "source": [
    "a=\"Hello World\"\n",
    "print(type(a))"
   ]
  },
  {
   "cell_type": "code",
   "execution_count": 5,
   "id": "6576bd1c",
   "metadata": {},
   "outputs": [
    {
     "name": "stdout",
     "output_type": "stream",
     "text": [
      "<class 'float'>\n"
     ]
    }
   ],
   "source": [
    "a=20.9\n",
    "print(type(a))"
   ]
  },
  {
   "cell_type": "code",
   "execution_count": 8,
   "id": "a5a535a0",
   "metadata": {},
   "outputs": [
    {
     "name": "stdout",
     "output_type": "stream",
     "text": [
      "<class 'complex'>\n"
     ]
    }
   ],
   "source": [
    "a= 1j\n",
    "print(type(a))"
   ]
  },
  {
   "cell_type": "code",
   "execution_count": 9,
   "id": "097ab4e2",
   "metadata": {},
   "outputs": [
    {
     "name": "stdout",
     "output_type": "stream",
     "text": [
      "<class 'bool'>\n"
     ]
    }
   ],
   "source": [
    "a= True\n",
    "print(type(a))"
   ]
  },
  {
   "cell_type": "code",
   "execution_count": 11,
   "id": "b8d66211",
   "metadata": {},
   "outputs": [
    {
     "name": "stdout",
     "output_type": "stream",
     "text": [
      "<class 'list'>\n"
     ]
    }
   ],
   "source": [
    "a=[\"car\",\"bike\",\"truck\"]\n",
    "print(type(a))"
   ]
  },
  {
   "cell_type": "code",
   "execution_count": 12,
   "id": "60d6d1bd",
   "metadata": {},
   "outputs": [
    {
     "name": "stdout",
     "output_type": "stream",
     "text": [
      "<class 'tuple'>\n"
     ]
    }
   ],
   "source": [
    "a=(\"car\",\"bike\",\"truck\")\n",
    "print(type(a))"
   ]
  },
  {
   "cell_type": "code",
   "execution_count": 15,
   "id": "b549fc78",
   "metadata": {},
   "outputs": [
    {
     "name": "stdout",
     "output_type": "stream",
     "text": [
      "<class 'dict'>\n"
     ]
    }
   ],
   "source": [
    "a={\"Name\":\"Hira\" , \"Age\":\"21\" , \"Gender\":\"female\"}\n",
    "print(type(a))"
   ]
  },
  {
   "cell_type": "code",
   "execution_count": 16,
   "id": "1ba83844",
   "metadata": {},
   "outputs": [
    {
     "name": "stdout",
     "output_type": "stream",
     "text": [
      "<class 'range'>\n"
     ]
    }
   ],
   "source": [
    "a=range(10)\n",
    "print(type(a))"
   ]
  },
  {
   "cell_type": "code",
   "execution_count": 17,
   "id": "02a8390c",
   "metadata": {},
   "outputs": [
    {
     "name": "stdout",
     "output_type": "stream",
     "text": [
      "<class 'memoryview'>\n"
     ]
    }
   ],
   "source": [
    "a=memoryview(bytes(6))\n",
    "print(type(a))"
   ]
  },
  {
   "cell_type": "code",
   "execution_count": 10,
   "id": "8c8f1316",
   "metadata": {},
   "outputs": [
    {
     "name": "stdout",
     "output_type": "stream",
     "text": [
      "<class 'NoneType'>\n"
     ]
    }
   ],
   "source": [
    "a= None\n",
    "print(type(a))"
   ]
  },
  {
   "cell_type": "markdown",
   "id": "217073f7",
   "metadata": {},
   "source": [
    "## Variables"
   ]
  },
  {
   "cell_type": "code",
   "execution_count": 19,
   "id": "acbde085",
   "metadata": {},
   "outputs": [
    {
     "name": "stdout",
     "output_type": "stream",
     "text": [
      "45\n"
     ]
    }
   ],
   "source": [
    "var = 45\n",
    "print(var)"
   ]
  },
  {
   "cell_type": "code",
   "execution_count": 20,
   "id": "cdba0a1b",
   "metadata": {},
   "outputs": [
    {
     "name": "stdout",
     "output_type": "stream",
     "text": [
      "5\n",
      "Hira\n"
     ]
    }
   ],
   "source": [
    "a = 5\n",
    "b = \"Hira\"\n",
    "print(a)\n",
    "print(b)"
   ]
  },
  {
   "cell_type": "code",
   "execution_count": 25,
   "id": "4e0ac863",
   "metadata": {},
   "outputs": [
    {
     "name": "stdout",
     "output_type": "stream",
     "text": [
      "24\n",
      "32\n",
      "44.0\n"
     ]
    }
   ],
   "source": [
    "a = int(24)\n",
    "b = str(32)\n",
    "c = float(44)\n",
    "print(a)\n",
    "print(b)\n",
    "print(c)"
   ]
  },
  {
   "cell_type": "markdown",
   "id": "ac0ef9ed",
   "metadata": {},
   "source": [
    "### Legal Variable Name"
   ]
  },
  {
   "cell_type": "code",
   "execution_count": null,
   "id": "86f6838f",
   "metadata": {},
   "outputs": [],
   "source": [
    "myvar = \"Hira\"\n",
    "my_var = \"Hira\"\n",
    "_my_var = \"Hira\"\n",
    "myVar = \"Hira\"\n",
    "MYVAR = \"Hira\"\n",
    "myvar2 = \"Hira\""
   ]
  },
  {
   "cell_type": "markdown",
   "id": "19396599",
   "metadata": {},
   "source": [
    "### Camel Case\n",
    "myVariableName = \"Hira\"\n"
   ]
  },
  {
   "cell_type": "markdown",
   "id": "33dc26f9",
   "metadata": {},
   "source": [
    "### Pascal Case\n",
    "MyVariableName = \"Hira\""
   ]
  },
  {
   "cell_type": "markdown",
   "id": "2277d1c4",
   "metadata": {},
   "source": [
    "### Snake Case\n",
    "my_variable_name = \"Hira\""
   ]
  },
  {
   "cell_type": "code",
   "execution_count": 27,
   "id": "7356c556",
   "metadata": {
    "scrolled": true
   },
   "outputs": [
    {
     "name": "stdout",
     "output_type": "stream",
     "text": [
      "car\n",
      "bike\n",
      "truck\n"
     ]
    }
   ],
   "source": [
    "fruits = [\"car\", \"bike\", \"truck\"]\n",
    "a, b, c = fruits\n",
    "print(a)\n",
    "print(b)\n",
    "print(c)"
   ]
  },
  {
   "cell_type": "markdown",
   "id": "0161b40a",
   "metadata": {},
   "source": [
    "## Casting Variable"
   ]
  },
  {
   "cell_type": "code",
   "execution_count": 2,
   "id": "5202292a",
   "metadata": {},
   "outputs": [
    {
     "name": "stdout",
     "output_type": "stream",
     "text": [
      "1\n",
      "3\n",
      "6\n"
     ]
    }
   ],
   "source": [
    "a = int(1)\n",
    "b = int(3.9)\n",
    "c = int(\"6\")\n",
    "print(a)\n",
    "print(b)\n",
    "print(c)\n"
   ]
  },
  {
   "cell_type": "code",
   "execution_count": 3,
   "id": "e804a2dc",
   "metadata": {},
   "outputs": [
    {
     "name": "stdout",
     "output_type": "stream",
     "text": [
      "8.0\n",
      "4.8\n",
      "9.0\n"
     ]
    }
   ],
   "source": [
    "a = float(8)\n",
    "b = float(4.8)\n",
    "c = float('9')\n",
    "print(a)\n",
    "print(b)\n",
    "print(c)\n"
   ]
  },
  {
   "cell_type": "code",
   "execution_count": 4,
   "id": "f5855b92",
   "metadata": {},
   "outputs": [
    {
     "name": "stdout",
     "output_type": "stream",
     "text": [
      "Hira\n",
      "3\n",
      "4.8\n"
     ]
    }
   ],
   "source": [
    "a = str(\"Hira\")\n",
    "b = str(3)\n",
    "c = str(4.8)\n",
    "print(a)\n",
    "print(b)\n",
    "print(c)\n"
   ]
  }
 ],
 "metadata": {
  "kernelspec": {
   "display_name": "Python 3 (ipykernel)",
   "language": "python",
   "name": "python3"
  },
  "language_info": {
   "codemirror_mode": {
    "name": "ipython",
    "version": 3
   },
   "file_extension": ".py",
   "mimetype": "text/x-python",
   "name": "python",
   "nbconvert_exporter": "python",
   "pygments_lexer": "ipython3",
   "version": "3.9.13"
  }
 },
 "nbformat": 4,
 "nbformat_minor": 5
}
